{
 "cells": [
  {
   "cell_type": "code",
   "execution_count": 37,
   "metadata": {},
   "outputs": [],
   "source": [
    "#Import packages\n",
    "import pandas as pd\n",
    "import numpy as np\n",
    "from sklearn.preprocessing import *\n",
    "import matplotlib.pyplot as plt\n",
    "%matplotlib inline\n",
    "import pandas as pd\n",
    "import numpy as np\n",
    "from sklearn.preprocessing import*\n",
    "import matplotlib.pyplot as plt\n",
    "import numpy as np\n",
    "from sklearn.linear_model import LogisticRegression\n",
    "from sklearn.tree import DecisionTreeClassifier\n",
    "from copy import deepcopy\n",
    "from sklearn.cluster import KMeans\n",
    "from sklearn.metrics import *\n",
    "from sklearn.preprocessing import MinMaxScaler\n",
    "from sklearn.model_selection import train_test_split"
   ]
  },
  {
   "cell_type": "code",
   "execution_count": 38,
   "metadata": {},
   "outputs": [],
   "source": [
    "# Load College admission datasets\n",
    "admission=pd.read_csv(\"Admission_Predict_Ver1.1.csv\")\n",
    "\n",
    "#Normalize numeric values, TOFEL Score and GRE score\n",
    "# I use standardized normalization to norm the TOFEL scores and GRE scores\n",
    "TFscore= admission.loc[:,\"TOEFL Score\"]\n",
    "TFscore=pd.DataFrame(TFscore)\n",
    "GREscore= admission.loc[:,\"GRE Score\"]\n",
    "GREscore=pd.DataFrame(GREscore)\n",
    "\n",
    "standard_scaler = StandardScaler().fit(TFscore)\n",
    "standard_scaler\n",
    "standard_scaler2 = StandardScaler().fit(GREscore)\n",
    "standard_scaler2\n",
    "\n",
    "normed_TOFEL_Score = standard_scaler.transform(TFscore)\n",
    "normed_GRE_Score = standard_scaler.transform(GREscore)\n",
    "admission[\"normed_GRE\"]=normed_GRE_Score\n",
    "admission[\"normed_TOFEL\"]=normed_TOFEL_Score"
   ]
  },
  {
   "cell_type": "code",
   "execution_count": 39,
   "metadata": {},
   "outputs": [
    {
     "name": "stdout",
     "output_type": "stream",
     "text": [
      "[ 92. 102. 105. 109. 113. 120.]\n",
      "[  0.  20.  40.  60.  80. 100.]\n"
     ]
    }
   ],
   "source": [
    "# I will bin the Tofel scores in the dataset based on percentiles\n",
    "# I have assigned 5 bins, at the 20%,40%,60%,80%, and 100& percentile.\n",
    "# Here are the procedure to create the 5 bins. The bounds for each bin and the corresponding percentiles\n",
    "# are printed below\n",
    "x=admission[\"TOEFL Score\"]\n",
    "x=pd.DataFrame(x)\n",
    "NumberOfBins=5\n",
    "percentiles = np.linspace(0, 100, NumberOfBins + 1)\n",
    "bounds = np.percentile(x, percentiles)\n",
    "print(bounds)\n",
    "print(percentiles)\n",
    "\n",
    "# I decode categorical data \"Research\" type into research university and teaching university\n",
    "# 1 represents research university, 0 represent teaching university \n",
    "Replace1=admission.loc[:,\"Research\"]==1\n",
    "Replace2=admission.loc[:,\"Research\"]==0\n",
    "admission.loc[Replace1,\"Research\"]=\"Research_Univeristy\"\n",
    "admission.loc[Replace2,\"Research\"]=\"Teaching_Univeristy\"\n",
    "\n",
    "#I do not have any missing data in this dataset\n",
    "# If there are missing values in the Research Category, I will impute the data in the following way\n",
    "MissingValue = admission.loc[:,\"Research\"] == \"?\"\n",
    "admission.loc[MissingValue, \"Research\"] = \"No_Type\"\n",
    "\n",
    "# I will consolidate the categorical data \"University Rating\"\n",
    "# Instead of 5 categories of ratings, I consolidated it into 3 categories \n",
    "# Low rating, medium rating, and high rating\n",
    "admission[\"University Rating\"]\n",
    "admission.loc[admission.loc[:,\"University Rating\"]==1,\"University Rating\"]=\"Low rating\"\n",
    "admission.loc[admission.loc[:,\"University Rating\"]==2,\"University Rating\"]=\"Low rating\"\n",
    "admission.loc[admission.loc[:,\"University Rating\"]==3,\"University Rating\"]=\"Medium rating\"\n",
    "admission.loc[admission.loc[:,\"University Rating\"]==4,\"University Rating\"]=\"High rating\"\n",
    "admission.loc[admission.loc[:,\"University Rating\"]==5,\"University Rating\"]=\"High rating\"\n",
    "\n",
    "#One-hot encode categorical data with at least 3 categories (at least 1 column)\n",
    "\n",
    "# Create 3 new columns, one for each state in \"Shape\"\n",
    "admission.loc[:, \"Low Rating\"] = (admission.loc[:, \"University Rating\"] == \"Low rating\").astype(int)\n",
    "admission.loc[:, \"Medium Rating\"] = (admission.loc[:, \"University Rating\"] == \"Medium rating\").astype(int)\n",
    "admission.loc[:, \"High Rating\"] = (admission.loc[:, \"University Rating\"] == \"High rating\").astype(int)\n",
    "\n",
    "#Remove obsolete columns.\n",
    "admission = admission.drop(\"University Rating\", axis=1)"
   ]
  },
  {
   "cell_type": "markdown",
   "metadata": {},
   "source": [
    "Research question : I will use the normed TOFEL scores to predict whether this is a \n",
    "Teaching University or Research University ?"
   ]
  },
  {
   "cell_type": "code",
   "execution_count": 14,
   "metadata": {},
   "outputs": [],
   "source": [
    "# I will apply kmeans to Normed GRE and save the cluster into \"Normed_GRE_Cluster\"\n",
    "admission.loc[:,\"GRE Score_cluster\"] = KMeans(n_clusters=2, random_state=0).fit(pd.DataFrame(admission.loc[:,\"GRE Score\"])).labels_\n",
    "# I will apply kmeans to Normed TOFEL and save the cluster into \"Normed_TOFEL_Cluster\"\n",
    "admission.loc[:,\"TOEFL Score Score_cluster\"] = KMeans(n_clusters=2, random_state=0).fit(pd.DataFrame(admission.loc[:,\"TOEFL Score\"])).labels_"
   ]
  },
  {
   "cell_type": "code",
   "execution_count": 15,
   "metadata": {},
   "outputs": [
    {
     "data": {
      "text/plain": [
       "Serial No.                     int64\n",
       "GRE Score                      int64\n",
       "TOEFL Score                    int64\n",
       "SOP                          float64\n",
       "LOR                          float64\n",
       "CGPA                         float64\n",
       "Research                      object\n",
       "Chance of Admit              float64\n",
       "normed_GRE                   float64\n",
       "normed_TOFEL                 float64\n",
       "Low Rating                     int64\n",
       "Medium Rating                  int64\n",
       "High Rating                    int64\n",
       "GRE Score_cluster              int32\n",
       "TOEFL Score Score_cluster      int32\n",
       "dtype: object"
      ]
     },
     "execution_count": 15,
     "metadata": {},
     "output_type": "execute_result"
    }
   ],
   "source": [
    "admission.dtypes"
   ]
  },
  {
   "cell_type": "code",
   "execution_count": 20,
   "metadata": {},
   "outputs": [],
   "source": [
    "# I set the training data to be 80% and testing to be 20%\n",
    "r=0.2 # test_size=r \n",
    "X = pd.DataFrame(admission.loc[:,\"normed_TOFEL\"])\n",
    "Y = admission.loc[:,\"Research\"]\n",
    "# I split the dataset into training and testing datasets\n",
    "X_train, X_test, y_train, y_test = train_test_split(X, Y, test_size = r, random_state = 32)"
   ]
  },
  {
   "cell_type": "code",
   "execution_count": 21,
   "metadata": {},
   "outputs": [
    {
     "name": "stdout",
     "output_type": "stream",
     "text": [
      "\n",
      "\n",
      "Decision Tree classifier\n",
      "\n",
      "predictions for test set:\n",
      "[[0.28571429 0.71428571]\n",
      " [0.33333333 0.66666667]\n",
      " [0.84615385 0.15384615]\n",
      " [0.3125     0.6875    ]\n",
      " [0.70967742 0.29032258]\n",
      " [0.6        0.4       ]\n",
      " [0.23809524 0.76190476]\n",
      " [0.07142857 0.92857143]\n",
      " [0.82608696 0.17391304]\n",
      " [0.07142857 0.92857143]\n",
      " [0.60869565 0.39130435]\n",
      " [0.6        0.4       ]\n",
      " [0.35       0.65      ]\n",
      " [0.93333333 0.06666667]\n",
      " [0.07142857 0.92857143]\n",
      " [0.60869565 0.39130435]\n",
      " [0.70967742 0.29032258]\n",
      " [0.70967742 0.29032258]\n",
      " [0.36842105 0.63157895]\n",
      " [0.30434783 0.69565217]\n",
      " [0.70967742 0.29032258]\n",
      " [0.33333333 0.66666667]\n",
      " [0.70967742 0.29032258]\n",
      " [0.3125     0.6875    ]\n",
      " [0.82608696 0.17391304]\n",
      " [0.23809524 0.76190476]\n",
      " [0.875      0.125     ]\n",
      " [0.         1.        ]\n",
      " [0.07142857 0.92857143]\n",
      " [0.82608696 0.17391304]\n",
      " [0.84615385 0.15384615]\n",
      " [0.         1.        ]\n",
      " [0.84615385 0.15384615]\n",
      " [0.3125     0.6875    ]\n",
      " [0.60869565 0.39130435]\n",
      " [0.36842105 0.63157895]\n",
      " [0.42857143 0.57142857]\n",
      " [0.36842105 0.63157895]\n",
      " [0.28571429 0.71428571]\n",
      " [0.42857143 0.57142857]\n",
      " [0.88888889 0.11111111]\n",
      " [0.93333333 0.06666667]\n",
      " [0.3125     0.6875    ]\n",
      " [0.70967742 0.29032258]\n",
      " [0.82608696 0.17391304]\n",
      " [0.42857143 0.57142857]\n",
      " [0.60869565 0.39130435]\n",
      " [0.33333333 0.66666667]\n",
      " [0.84615385 0.15384615]\n",
      " [0.83333333 0.16666667]\n",
      " [0.42857143 0.57142857]\n",
      " [0.52941176 0.47058824]\n",
      " [0.70967742 0.29032258]\n",
      " [1.         0.        ]\n",
      " [0.30434783 0.69565217]\n",
      " [0.42857143 0.57142857]\n",
      " [0.23809524 0.76190476]\n",
      " [1.         0.        ]\n",
      " [0.70967742 0.29032258]\n",
      " [0.28571429 0.71428571]\n",
      " [0.70967742 0.29032258]\n",
      " [0.30434783 0.69565217]\n",
      " [0.30434783 0.69565217]\n",
      " [0.83333333 0.16666667]\n",
      " [0.35       0.65      ]\n",
      " [0.30434783 0.69565217]\n",
      " [0.70967742 0.29032258]\n",
      " [0.23809524 0.76190476]\n",
      " [0.60869565 0.39130435]\n",
      " [0.93333333 0.06666667]\n",
      " [0.70967742 0.29032258]\n",
      " [0.70967742 0.29032258]\n",
      " [0.07142857 0.92857143]\n",
      " [0.3125     0.6875    ]\n",
      " [0.55555556 0.44444444]\n",
      " [0.84615385 0.15384615]\n",
      " [0.33333333 0.66666667]\n",
      " [0.07142857 0.92857143]\n",
      " [0.83333333 0.16666667]\n",
      " [0.         1.        ]\n",
      " [0.82608696 0.17391304]\n",
      " [0.07142857 0.92857143]\n",
      " [0.35       0.65      ]\n",
      " [0.07142857 0.92857143]\n",
      " [0.875      0.125     ]\n",
      " [0.52941176 0.47058824]\n",
      " [0.33333333 0.66666667]\n",
      " [1.         0.        ]\n",
      " [1.         0.        ]\n",
      " [0.36842105 0.63157895]\n",
      " [0.07142857 0.92857143]\n",
      " [0.93333333 0.06666667]\n",
      " [0.70967742 0.29032258]\n",
      " [0.35       0.65      ]\n",
      " [0.83333333 0.16666667]\n",
      " [1.         0.        ]\n",
      " [1.         0.        ]\n",
      " [0.875      0.125     ]\n",
      " [0.42857143 0.57142857]\n",
      " [0.36842105 0.63157895]]\n",
      "actual class values:\n",
      "['Research_Univeristy', 'Teaching_Univeristy', 'Research_Univeristy', 'Research_Univeristy', 'Research_Univeristy', 'Teaching_Univeristy', 'Teaching_Univeristy', 'Research_Univeristy', 'Research_Univeristy', 'Research_Univeristy', 'Research_Univeristy', 'Teaching_Univeristy', 'Teaching_Univeristy', 'Research_Univeristy', 'Teaching_Univeristy', 'Research_Univeristy', 'Research_Univeristy', 'Teaching_Univeristy', 'Research_Univeristy', 'Research_Univeristy', 'Research_Univeristy', 'Research_Univeristy', 'Teaching_Univeristy', 'Teaching_Univeristy', 'Research_Univeristy', 'Teaching_Univeristy', 'Research_Univeristy', 'Teaching_Univeristy', 'Research_Univeristy', 'Research_Univeristy', 'Teaching_Univeristy', 'Teaching_Univeristy', 'Research_Univeristy', 'Teaching_Univeristy', 'Research_Univeristy', 'Teaching_Univeristy', 'Teaching_Univeristy', 'Teaching_Univeristy', 'Research_Univeristy', 'Teaching_Univeristy', 'Research_Univeristy', 'Research_Univeristy', 'Teaching_Univeristy', 'Research_Univeristy', 'Research_Univeristy', 'Teaching_Univeristy', 'Teaching_Univeristy', 'Research_Univeristy', 'Research_Univeristy', 'Research_Univeristy', 'Research_Univeristy', 'Teaching_Univeristy', 'Teaching_Univeristy', 'Research_Univeristy', 'Research_Univeristy', 'Research_Univeristy', 'Teaching_Univeristy', 'Research_Univeristy', 'Research_Univeristy', 'Teaching_Univeristy', 'Teaching_Univeristy', 'Research_Univeristy', 'Research_Univeristy', 'Research_Univeristy', 'Research_Univeristy', 'Research_Univeristy', 'Research_Univeristy', 'Research_Univeristy', 'Research_Univeristy', 'Teaching_Univeristy', 'Research_Univeristy', 'Research_Univeristy', 'Teaching_Univeristy', 'Teaching_Univeristy', 'Research_Univeristy', 'Research_Univeristy', 'Research_Univeristy', 'Teaching_Univeristy', 'Research_Univeristy', 'Teaching_Univeristy', 'Research_Univeristy', 'Teaching_Univeristy', 'Teaching_Univeristy', 'Research_Univeristy', 'Research_Univeristy', 'Teaching_Univeristy', 'Teaching_Univeristy', 'Research_Univeristy', 'Research_Univeristy', 'Teaching_Univeristy', 'Teaching_Univeristy', 'Teaching_Univeristy', 'Research_Univeristy', 'Teaching_Univeristy', 'Research_Univeristy', 'Research_Univeristy', 'Research_Univeristy', 'Research_Univeristy', 'Research_Univeristy', 'Teaching_Univeristy']\n"
     ]
    }
   ],
   "source": [
    "# I will apply a Decision Tree classification method to analyze the data\n",
    "\n",
    "print('\\n\\nDecision Tree classifier\\n')\n",
    "clf = DecisionTreeClassifier() # default hyper-parameters are fine\n",
    "clf.fit(X_train, y_train)\n",
    "print(\"predictions for test set:\")\n",
    "print(clf.predict_proba(X_test))\n",
    "print('actual class values:')\n",
    "print(y_test.tolist())"
   ]
  },
  {
   "cell_type": "code",
   "execution_count": 40,
   "metadata": {},
   "outputs": [],
   "source": [
    "# I will saved the prediction results in to a csv file\n",
    "predicted_actual=pd.DataFrame({'trueClass':clf.predict(X_test),'probabilities':clf.predict_proba(X_test)[:,1]})\n",
    "predicted_actual.to_csv(\"actualClass_vs_probabilities.csv\")"
   ]
  },
  {
   "cell_type": "code",
   "execution_count": 23,
   "metadata": {},
   "outputs": [
    {
     "data": {
      "text/plain": [
       "0.67"
      ]
     },
     "execution_count": 23,
     "metadata": {},
     "output_type": "execute_result"
    }
   ],
   "source": [
    "# I will calculate the accuracy rate, \n",
    "# which is the number of correct predictions divided by the total number of predictions \n",
    "AR = accuracy_score(y_test.tolist(), clf.predict(X_test))\n",
    "AR"
   ]
  },
  {
   "cell_type": "code",
   "execution_count": 41,
   "metadata": {},
   "outputs": [],
   "source": [
    "# Import the results from the previous predictions that I used the TOFEL Score to predict whether it was a Teaching or Research University \n",
    "# I further decode the types into 0 and 1\n",
    "UniveristyType=pd.read_csv(\"actualClass_vs_probabilities.csv\")\n",
    "Replace1=UniveristyType.loc[:,\"trueClass\"]==\"Teaching_Univeristy\"\n",
    "Replace2=UniveristyType.loc[:,\"trueClass\"]==\"Research_Univeristy\"\n",
    "UniveristyType.loc[Replace1,\"trueClass\"]=1\n",
    "UniveristyType.loc[Replace2,\"trueClass\"]=0\n"
   ]
  },
  {
   "cell_type": "code",
   "execution_count": 42,
   "metadata": {},
   "outputs": [
    {
     "name": "stdout",
     "output_type": "stream",
     "text": [
      "\n",
      "\n",
      "Confusion matrix:\n",
      " [[51  0]\n",
      " [ 0 49]]\n",
      "\n",
      "TP, TN, FP, FN: 49 , 51 , 0 , 0\n",
      "\n",
      "Accuracy rate: 1.0\n",
      "\n",
      "Error rate: 0.0\n",
      "\n",
      "Precision: 1.0\n",
      "\n",
      "Recall: 1.0\n",
      "\n",
      "F1 score: 1.0\n"
     ]
    }
   ],
   "source": [
    "T=UniveristyType[\"trueClass\"]\n",
    "y=UniveristyType[\"probabilities\"]\n",
    "Y=np.round(y,0)\n",
    "\n",
    "# I will create the Confusion Matrix, caluclate the precision score,recall score, F1 score, \n",
    "# and error rate to examine how well my classification is\n",
    "CM = confusion_matrix(T, Y)\n",
    "print (\"\\n\\nConfusion matrix:\\n\", CM)\n",
    "tn, fp, fn, tp = CM.ravel()\n",
    "print (\"\\nTP, TN, FP, FN:\", tp, \",\", tn, \",\", fp, \",\", fn)\n",
    "AR = accuracy_score(T, Y)\n",
    "print (\"\\nAccuracy rate:\", AR)\n",
    "ER = 1.0 - AR\n",
    "print (\"\\nError rate:\", ER)\n",
    "P = precision_score(T, Y)\n",
    "print (\"\\nPrecision:\", np.round(P, 2))\n",
    "R = recall_score(T, Y)\n",
    "print (\"\\nRecall:\", np.round(R, 2))\n",
    "F1 = f1_score(T, Y)\n",
    "print (\"\\nF1 score:\", np.round(F1, 2))"
   ]
  },
  {
   "cell_type": "code",
   "execution_count": 32,
   "metadata": {
    "scrolled": true
   },
   "outputs": [
    {
     "name": "stdout",
     "output_type": "stream",
     "text": [
      "\n",
      "TP rates: [0.06 0.24 0.33 0.39 0.69 0.78 0.88 1.   1.   1.   1.   1.   1.   1.\n",
      " 1.   1.   1.   1.   1.   1.  ]\n",
      "\n",
      "FP rates: [0.   0.   0.   0.   0.   0.   0.   0.   0.04 0.06 0.1  0.2  0.45 0.55\n",
      " 0.63 0.73 0.78 0.8  0.88 1.  ]\n",
      "\n",
      "Probability thresholds: [1.   0.93 0.76 0.71 0.67 0.65 0.63 0.57 0.47 0.44 0.4  0.39 0.29 0.17\n",
      " 0.17 0.15 0.12 0.11 0.07 0.  ]\n"
     ]
    }
   ],
   "source": [
    "# I will perform the ROC analysis\n",
    "LW = 1.5 # line width for plots\n",
    "LL = \"lower right\" # legend location\n",
    "LC = 'darkgreen' # Line Color\n",
    "\n",
    "fpr, tpr, th = roc_curve(T, y) # False Positive Rate, True Posisive Rate, probability thresholds\n",
    "AUC = auc(fpr, tpr)\n",
    "print (\"\\nTP rates:\", np.round(tpr, 2))\n",
    "print (\"\\nFP rates:\", np.round(fpr, 2))\n",
    "print (\"\\nProbability thresholds:\", np.round(th, 2))"
   ]
  },
  {
   "cell_type": "code",
   "execution_count": 33,
   "metadata": {
    "scrolled": true
   },
   "outputs": [
    {
     "data": {
      "image/png": "[encoded data removed]",
      "text/plain": [
       "<Figure size 432x288 with 1 Axes>"
      ]
     },
     "metadata": {
      "needs_background": "light"
     },
     "output_type": "display_data"
    }
   ],
   "source": [
    "# I will present the ROC and AUC using plot\n",
    "plt.figure()\n",
    "plt.title('Receiver Operating Characteristic curve example')\n",
    "plt.xlim([0.0, 1.0])\n",
    "plt.ylim([0.0, 1.05])\n",
    "plt.xlabel('FALSE Positive Rate')\n",
    "plt.ylabel('TRUE Positive Rate')\n",
    "plt.plot(fpr, tpr, color=LC,lw=LW, label='ROC curve (area = %0.2f)' % AUC)\n",
    "plt.plot([0, 1], [0, 1], color='navy', lw=LW, linestyle='--') # reference line for random classifier\n",
    "plt.legend(loc=LL)\n",
    "plt.show()"
   ]
  },
  {
   "cell_type": "code",
   "execution_count": 36,
   "metadata": {},
   "outputs": [
    {
     "name": "stdout",
     "output_type": "stream",
     "text": [
      "\n",
      "AUC score (using auc function): 1.0\n",
      "\n",
      "AUC score (using roc_auc_score function): 1.0 \n",
      "\n"
     ]
    }
   ],
   "source": [
    "# Here are the AUC score\n",
    "print (\"\\nAUC score (using auc function):\", np.round(AUC, 2))\n",
    "print (\"\\nAUC score (using roc_auc_score function):\", np.round(roc_auc_score(T, y), 2), \"\\n\")"
   ]
  },
  {
   "cell_type": "markdown",
   "metadata": {},
   "source": [
    "The results indicated that my classification of the university type was very good. Normed TOEFL score based on admission can predict whether this is a research or teaching university."
   ]
  }
 ],
 "metadata": {
  "kernelspec": {
   "display_name": "Python 3",
   "language": "python",
   "name": "python3"
  },
  "language_info": {
   "codemirror_mode": {
    "name": "ipython",
    "version": 3
   },
   "file_extension": ".py",
   "mimetype": "text/x-python",
   "name": "python",
   "nbconvert_exporter": "python",
   "pygments_lexer": "ipython3",
   "version": "3.7.2"
  }
 },
 "nbformat": 4,
 "nbformat_minor": 2
}
